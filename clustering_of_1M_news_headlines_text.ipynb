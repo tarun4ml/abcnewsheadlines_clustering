{
  "nbformat": 4,
  "nbformat_minor": 0,
  "metadata": {
    "colab": {
      "name": "clustering of 1M news headlines text",
      "provenance": [],
      "collapsed_sections": [],
      "toc_visible": true,
      "authorship_tag": "ABX9TyMkaZTLCf3XfE7I+4lF2W6F",
      "include_colab_link": true
    },
    "kernelspec": {
      "name": "python3",
      "display_name": "Python 3"
    },
    "accelerator": "GPU"
  },
  "cells": [
    {
      "cell_type": "markdown",
      "metadata": {
        "id": "view-in-github",
        "colab_type": "text"
      },
      "source": [
        "<a href=\"https://colab.research.google.com/github/tarun4ml/abcnewsheadlines_clustering/blob/main/clustering_of_1M_news_headlines_text.ipynb\" target=\"_parent\"><img src=\"https://colab.research.google.com/assets/colab-badge.svg\" alt=\"Open In Colab\"/></a>"
      ]
    },
    {
      "cell_type": "markdown",
      "metadata": {
        "id": "tpvx0NfEG9ya"
      },
      "source": [
        "***importing necessary libraries***"
      ]
    },
    {
      "cell_type": "code",
      "metadata": {
        "id": "vJUMIotYv7vt"
      },
      "source": [
        "import numpy as np\n",
        "import pandas as pd\n",
        "import matplotlib.pyplot as plt\n",
        "import seaborn as sns\n",
        "import warnings\n",
        "warnings.filterwarnings('ignore')\n",
        "plt.style.use('seaborn')\n",
        "%matplotlib inline"
      ],
      "execution_count": null,
      "outputs": []
    },
    {
      "cell_type": "markdown",
      "metadata": {
        "id": "OhNdbu1-Hlzd"
      },
      "source": [
        "***importing dataset***"
      ]
    },
    {
      "cell_type": "code",
      "metadata": {
        "id": "BpH5bg3UwJtg",
        "outputId": "a2174e6c-1949-4a56-85f7-1bb9153f83e9",
        "colab": {
          "base_uri": "https://localhost:8080/",
          "height": 196
        }
      },
      "source": [
        "df=pd.read_csv('abcnews-date-text.csv')\n",
        "df.head()"
      ],
      "execution_count": null,
      "outputs": [
        {
          "output_type": "execute_result",
          "data": {
            "text/html": [
              "<div>\n",
              "<style scoped>\n",
              "    .dataframe tbody tr th:only-of-type {\n",
              "        vertical-align: middle;\n",
              "    }\n",
              "\n",
              "    .dataframe tbody tr th {\n",
              "        vertical-align: top;\n",
              "    }\n",
              "\n",
              "    .dataframe thead th {\n",
              "        text-align: right;\n",
              "    }\n",
              "</style>\n",
              "<table border=\"1\" class=\"dataframe\">\n",
              "  <thead>\n",
              "    <tr style=\"text-align: right;\">\n",
              "      <th></th>\n",
              "      <th>publish_date</th>\n",
              "      <th>headline_text</th>\n",
              "    </tr>\n",
              "  </thead>\n",
              "  <tbody>\n",
              "    <tr>\n",
              "      <th>0</th>\n",
              "      <td>20030219</td>\n",
              "      <td>aba decides against community broadcasting lic...</td>\n",
              "    </tr>\n",
              "    <tr>\n",
              "      <th>1</th>\n",
              "      <td>20030219</td>\n",
              "      <td>act fire witnesses must be aware of defamation</td>\n",
              "    </tr>\n",
              "    <tr>\n",
              "      <th>2</th>\n",
              "      <td>20030219</td>\n",
              "      <td>a g calls for infrastructure protection summit</td>\n",
              "    </tr>\n",
              "    <tr>\n",
              "      <th>3</th>\n",
              "      <td>20030219</td>\n",
              "      <td>air nz staff in aust strike for pay rise</td>\n",
              "    </tr>\n",
              "    <tr>\n",
              "      <th>4</th>\n",
              "      <td>20030219</td>\n",
              "      <td>air nz strike to affect australian travellers</td>\n",
              "    </tr>\n",
              "  </tbody>\n",
              "</table>\n",
              "</div>"
            ],
            "text/plain": [
              "   publish_date                                      headline_text\n",
              "0      20030219  aba decides against community broadcasting lic...\n",
              "1      20030219     act fire witnesses must be aware of defamation\n",
              "2      20030219     a g calls for infrastructure protection summit\n",
              "3      20030219           air nz staff in aust strike for pay rise\n",
              "4      20030219      air nz strike to affect australian travellers"
            ]
          },
          "metadata": {
            "tags": []
          },
          "execution_count": 12
        }
      ]
    },
    {
      "cell_type": "code",
      "metadata": {
        "id": "zodyI393woA7",
        "outputId": "8e6bccdf-74ec-4ca4-f4a0-d60131de7fd2",
        "colab": {
          "base_uri": "https://localhost:8080/",
          "height": 33
        }
      },
      "source": [
        "# dimension of data\n",
        "df.shape"
      ],
      "execution_count": null,
      "outputs": [
        {
          "output_type": "execute_result",
          "data": {
            "text/plain": [
              "(1186018, 2)"
            ]
          },
          "metadata": {
            "tags": []
          },
          "execution_count": 13
        }
      ]
    },
    {
      "cell_type": "code",
      "metadata": {
        "id": "dedwT0ZRxuko"
      },
      "source": [
        "# check if any duplicates in column\n",
        "df= df.drop_duplicates('headline_text')"
      ],
      "execution_count": null,
      "outputs": []
    },
    {
      "cell_type": "code",
      "metadata": {
        "id": "T_ySjvXlxu33",
        "outputId": "34ae8213-02b8-412c-e3ab-f4cfc4435d6a",
        "colab": {
          "base_uri": "https://localhost:8080/",
          "height": 33
        }
      },
      "source": [
        "df.shape"
      ],
      "execution_count": null,
      "outputs": [
        {
          "output_type": "execute_result",
          "data": {
            "text/plain": [
              "(1155838, 2)"
            ]
          },
          "metadata": {
            "tags": []
          },
          "execution_count": 15
        }
      ]
    },
    {
      "cell_type": "code",
      "metadata": {
        "id": "Rb1ambsSxvM4"
      },
      "source": [
        "# reset index\n",
        "df.reset_index(drop=True, inplace=True)"
      ],
      "execution_count": null,
      "outputs": []
    },
    {
      "cell_type": "code",
      "metadata": {
        "id": "tBSstZvYxvge",
        "outputId": "cc12799c-eb83-4d9f-cf96-a9f9f1659347",
        "colab": {
          "base_uri": "https://localhost:8080/",
          "height": 217
        }
      },
      "source": [
        "df['publish_date'].argsort(kind = 'mergesort')"
      ],
      "execution_count": null,
      "outputs": [
        {
          "output_type": "execute_result",
          "data": {
            "text/plain": [
              "0                0\n",
              "1                1\n",
              "2                2\n",
              "3                3\n",
              "4                4\n",
              "            ...   \n",
              "1155833    1155833\n",
              "1155834    1155834\n",
              "1155835    1155835\n",
              "1155836    1155836\n",
              "1155837    1155837\n",
              "Name: publish_date, Length: 1155838, dtype: int64"
            ]
          },
          "metadata": {
            "tags": []
          },
          "execution_count": 17
        }
      ]
    },
    {
      "cell_type": "code",
      "metadata": {
        "id": "M7M-jyB2xv2W",
        "outputId": "b5d2c7f0-e713-482a-f043-f7e312f21932",
        "colab": {
          "base_uri": "https://localhost:8080/",
          "height": 196
        }
      },
      "source": [
        "df.tail()"
      ],
      "execution_count": null,
      "outputs": [
        {
          "output_type": "execute_result",
          "data": {
            "text/html": [
              "<div>\n",
              "<style scoped>\n",
              "    .dataframe tbody tr th:only-of-type {\n",
              "        vertical-align: middle;\n",
              "    }\n",
              "\n",
              "    .dataframe tbody tr th {\n",
              "        vertical-align: top;\n",
              "    }\n",
              "\n",
              "    .dataframe thead th {\n",
              "        text-align: right;\n",
              "    }\n",
              "</style>\n",
              "<table border=\"1\" class=\"dataframe\">\n",
              "  <thead>\n",
              "    <tr style=\"text-align: right;\">\n",
              "      <th></th>\n",
              "      <th>publish_date</th>\n",
              "      <th>headline_text</th>\n",
              "    </tr>\n",
              "  </thead>\n",
              "  <tbody>\n",
              "    <tr>\n",
              "      <th>1155833</th>\n",
              "      <td>20191231</td>\n",
              "      <td>vision of flames approaching corryong in victoria</td>\n",
              "    </tr>\n",
              "    <tr>\n",
              "      <th>1155834</th>\n",
              "      <td>20191231</td>\n",
              "      <td>wa police and government backflip on drug amne...</td>\n",
              "    </tr>\n",
              "    <tr>\n",
              "      <th>1155835</th>\n",
              "      <td>20191231</td>\n",
              "      <td>we have fears for their safety: victorian premier</td>\n",
              "    </tr>\n",
              "    <tr>\n",
              "      <th>1155836</th>\n",
              "      <td>20191231</td>\n",
              "      <td>when do the 20s start</td>\n",
              "    </tr>\n",
              "    <tr>\n",
              "      <th>1155837</th>\n",
              "      <td>20191231</td>\n",
              "      <td>yarraville shooting woman dead man critically ...</td>\n",
              "    </tr>\n",
              "  </tbody>\n",
              "</table>\n",
              "</div>"
            ],
            "text/plain": [
              "         publish_date                                      headline_text\n",
              "1155833      20191231  vision of flames approaching corryong in victoria\n",
              "1155834      20191231  wa police and government backflip on drug amne...\n",
              "1155835      20191231  we have fears for their safety: victorian premier\n",
              "1155836      20191231                              when do the 20s start\n",
              "1155837      20191231  yarraville shooting woman dead man critically ..."
            ]
          },
          "metadata": {
            "tags": []
          },
          "execution_count": 18
        }
      ]
    },
    {
      "cell_type": "code",
      "metadata": {
        "id": "VaeK3p_lxwev",
        "outputId": "5e518150-8e90-4ef5-8028-86fc36f8ab58",
        "colab": {
          "base_uri": "https://localhost:8080/",
          "height": 67
        }
      },
      "source": [
        "df.isna().sum()"
      ],
      "execution_count": null,
      "outputs": [
        {
          "output_type": "execute_result",
          "data": {
            "text/plain": [
              "publish_date     0\n",
              "headline_text    0\n",
              "dtype: int64"
            ]
          },
          "metadata": {
            "tags": []
          },
          "execution_count": 19
        }
      ]
    },
    {
      "cell_type": "code",
      "metadata": {
        "id": "q9HlGjfkIlmE"
      },
      "source": [
        "# no null values"
      ],
      "execution_count": null,
      "outputs": []
    },
    {
      "cell_type": "markdown",
      "metadata": {
        "id": "AMuCWs3mIy-V"
      },
      "source": [
        "**natural language processing**"
      ]
    },
    {
      "cell_type": "code",
      "metadata": {
        "id": "GUeBOINqxw0n"
      },
      "source": [
        "import nltk"
      ],
      "execution_count": null,
      "outputs": []
    },
    {
      "cell_type": "code",
      "metadata": {
        "id": "zCMCDoIyxw9H"
      },
      "source": [
        "from nltk.corpus import stopwords\n",
        "import sklearn.feature_extraction.text as text\n",
        "import re\n",
        "from nltk.stem.snowball import SnowballStemmer\n",
        "from nltk.tokenize import RegexpTokenizer"
      ],
      "execution_count": null,
      "outputs": []
    },
    {
      "cell_type": "code",
      "metadata": {
        "id": "THhUPJQ30GPM",
        "outputId": "cda44dbc-64e9-48db-9460-4b8e71f1a2fa",
        "colab": {
          "base_uri": "https://localhost:8080/",
          "height": 67
        }
      },
      "source": [
        "# pre defined stopwords\n",
        "nltk.download('stopwords')"
      ],
      "execution_count": null,
      "outputs": [
        {
          "output_type": "stream",
          "text": [
            "[nltk_data] Downloading package stopwords to /root/nltk_data...\n",
            "[nltk_data]   Package stopwords is already up-to-date!\n"
          ],
          "name": "stdout"
        },
        {
          "output_type": "execute_result",
          "data": {
            "text/plain": [
              "True"
            ]
          },
          "metadata": {
            "tags": []
          },
          "execution_count": 22
        }
      ]
    },
    {
      "cell_type": "code",
      "metadata": {
        "id": "JGKC8xkWxxXW"
      },
      "source": [
        "# converting columns to a list of values\n",
        "head=df['headline_text'].values"
      ],
      "execution_count": null,
      "outputs": []
    },
    {
      "cell_type": "markdown",
      "metadata": {
        "id": "3QlGbx3IJ2AP"
      },
      "source": [
        "Stemming is the process of reducing a word into its stem, i.e. its root form."
      ]
    },
    {
      "cell_type": "markdown",
      "metadata": {
        "id": "5XJNncJeKCBL"
      },
      "source": [
        "Tokenization is breaking the sentence into words and punctuation"
      ]
    },
    {
      "cell_type": "code",
      "metadata": {
        "id": "GJ01-9_0xxh4"
      },
      "source": [
        "stop=set(stopwords.words('english'))\n",
        "ss = SnowballStemmer(\"english\")\n",
        "reg = RegexpTokenizer(r'[a-zA-Z\\']+')\n",
        "def tokenize(text):\n",
        "    return [ss.stem(word) for word in reg.tokenize(text.lower())]"
      ],
      "execution_count": null,
      "outputs": []
    },
    {
      "cell_type": "markdown",
      "metadata": {
        "id": "4B04d75jKHoK"
      },
      "source": [
        "TFIDF, short for term frequency–inverse document frequency, is a numerical statistic that is intended to reflect how important a word is to a document in a collection or corpus"
      ]
    },
    {
      "cell_type": "code",
      "metadata": {
        "id": "lM6-0RfKxxdV"
      },
      "source": [
        "vector=text.TfidfVectorizer(stop_words=stop, tokenizer =tokenize, max_features=1000)"
      ],
      "execution_count": null,
      "outputs": []
    },
    {
      "cell_type": "code",
      "metadata": {
        "id": "wndjY3g8xxS_"
      },
      "source": [
        "X=vector.fit_transform(head)"
      ],
      "execution_count": null,
      "outputs": []
    },
    {
      "cell_type": "code",
      "metadata": {
        "id": "oGFPZwQaxxDW",
        "outputId": "50ff67e4-dbe6-421b-ec52-9bd00c0c68bd",
        "colab": {
          "base_uri": "https://localhost:8080/",
          "height": 33
        }
      },
      "source": [
        "wf=vector.get_feature_names()\n",
        "len(wf)"
      ],
      "execution_count": null,
      "outputs": [
        {
          "output_type": "execute_result",
          "data": {
            "text/plain": [
              "1000"
            ]
          },
          "metadata": {
            "tags": []
          },
          "execution_count": 29
        }
      ]
    },
    {
      "cell_type": "code",
      "metadata": {
        "id": "yODuZuacxw5N",
        "outputId": "432f92d3-b4d2-4f76-a57b-710a8a643f1a",
        "colab": {
          "base_uri": "https://localhost:8080/",
          "height": 853
        }
      },
      "source": [
        "wf[950:1000]"
      ],
      "execution_count": null,
      "outputs": [
        {
          "output_type": "execute_result",
          "data": {
            "text/plain": [
              "['vow',\n",
              " 'vs',\n",
              " 'wa',\n",
              " 'wait',\n",
              " 'walk',\n",
              " 'wall',\n",
              " 'wallabi',\n",
              " 'want',\n",
              " 'war',\n",
              " 'warn',\n",
              " 'warrior',\n",
              " 'wast',\n",
              " 'watch',\n",
              " 'water',\n",
              " 'way',\n",
              " 'weather',\n",
              " 'week',\n",
              " 'welcom',\n",
              " 'welfar',\n",
              " 'well',\n",
              " 'west',\n",
              " 'western',\n",
              " 'whale',\n",
              " 'whi',\n",
              " 'white',\n",
              " 'wife',\n",
              " 'wild',\n",
              " 'william',\n",
              " 'win',\n",
              " 'wind',\n",
              " 'wine',\n",
              " 'winner',\n",
              " 'wit',\n",
              " 'without',\n",
              " 'woe',\n",
              " 'woman',\n",
              " 'women',\n",
              " 'wont',\n",
              " 'work',\n",
              " 'worker',\n",
              " 'world',\n",
              " 'worri',\n",
              " 'would',\n",
              " 'year',\n",
              " 'yet',\n",
              " 'yo',\n",
              " 'young',\n",
              " 'youth',\n",
              " 'zealand',\n",
              " 'zone']"
            ]
          },
          "metadata": {
            "tags": []
          },
          "execution_count": 30
        }
      ]
    },
    {
      "cell_type": "code",
      "metadata": {
        "id": "h9MrtjbV5m_w"
      },
      "source": [
        "# importing kmeans cluster algorithm for text clustering\n",
        "from sklearn.cluster import KMeans"
      ],
      "execution_count": null,
      "outputs": []
    },
    {
      "cell_type": "code",
      "metadata": {
        "id": "UQVHp-tLxwuF",
        "outputId": "0a37e016-6d2f-4698-f4c2-a723bd1fa4f4",
        "colab": {
          "base_uri": "https://localhost:8080/",
          "height": 498
        }
      },
      "source": [
        "# a loop of clusters ranging from 0 to 11\n",
        "# also try to find best cluster by plotting elbow curve\n",
        "wcss=[]\n",
        "k=range(1,11)\n",
        "for i in k:\n",
        "    kmeans=KMeans(n_clusters=i,init='k-means++',max_iter=300, n_init=10, random_state=0)\n",
        "    kmeans.fit(X)\n",
        "    wcss.append(kmeans.inertia_)\n",
        "    print(wcss)\n",
        "plt.title('The Elbow Method')\n",
        "plt.xlabel('Number of clusters')\n",
        "plt.ylabel('WCSS')\n",
        "plt.plot(k,wcss)"
      ],
      "execution_count": null,
      "outputs": [
        {
          "output_type": "stream",
          "text": [
            "[1119532.2614680002]\n",
            "[1119532.2614680002, 1114155.8208100605]\n",
            "[1119532.2614680002, 1114155.8208100605, 1110182.8045903442]\n",
            "[1119532.2614680002, 1114155.8208100605, 1110182.8045903442, 1105336.4933605045]\n",
            "[1119532.2614680002, 1114155.8208100605, 1110182.8045903442, 1105336.4933605045, 1101088.8671983795]\n",
            "[1119532.2614680002, 1114155.8208100605, 1110182.8045903442, 1105336.4933605045, 1101088.8671983795, 1098065.394449554]\n",
            "[1119532.2614680002, 1114155.8208100605, 1110182.8045903442, 1105336.4933605045, 1101088.8671983795, 1098065.394449554, 1095138.3827472797]\n",
            "[1119532.2614680002, 1114155.8208100605, 1110182.8045903442, 1105336.4933605045, 1101088.8671983795, 1098065.394449554, 1095138.3827472797, 1094220.0559167943]\n",
            "[1119532.2614680002, 1114155.8208100605, 1110182.8045903442, 1105336.4933605045, 1101088.8671983795, 1098065.394449554, 1095138.3827472797, 1094220.0559167943, 1092176.3433435773]\n",
            "[1119532.2614680002, 1114155.8208100605, 1110182.8045903442, 1105336.4933605045, 1101088.8671983795, 1098065.394449554, 1095138.3827472797, 1094220.0559167943, 1092176.3433435773, 1090419.7472123161]\n"
          ],
          "name": "stdout"
        },
        {
          "output_type": "execute_result",
          "data": {
            "text/plain": [
              "[<matplotlib.lines.Line2D at 0x7ff884584400>]"
            ]
          },
          "metadata": {
            "tags": []
          },
          "execution_count": 32
        },
        {
          "output_type": "display_data",
          "data": {
            "image/png": "[encoded data removed]",
            "text/plain": [
              "<Figure size 432x288 with 1 Axes>"
            ]
          },
          "metadata": {
            "tags": [],
            "needs_background": "light"
          }
        }
      ]
    },
    {
      "cell_type": "markdown",
      "metadata": {
        "id": "FFx0GAHVLbox"
      },
      "source": [
        "As more than one elbows have been generated, I will have to select right amount of clusters by trial and error. So, I will showcase the results of different amount of clusters to find out the right amount of clusters."
      ]
    },
    {
      "cell_type": "markdown",
      "metadata": {
        "id": "A3ieEI3gMCxf"
      },
      "source": [
        "**5 clusters**"
      ]
    },
    {
      "cell_type": "code",
      "metadata": {
        "id": "gYYo8S_N3h1D",
        "outputId": "8fabeedc-bbd7-4b55-a67c-eeb5a670414c",
        "colab": {
          "base_uri": "https://localhost:8080/",
          "height": 120
        }
      },
      "source": [
        "kmeans = KMeans(n_clusters = 5, n_init = 20) # n_init(number of iterations for clsutering) n_jobs(number of cpu cores to use)\n",
        "kmeans.fit(X)\n",
        "# We look at 5 the clusters generated by k-means.\n",
        "common_words = kmeans.cluster_centers_.argsort()[:,-1:-26:-1]\n",
        "for num, centroid in enumerate(common_words):\n",
        "    print(str(num) + ' : ' + ', '.join(wf[word] for word in centroid))"
      ],
      "execution_count": null,
      "outputs": [
        {
          "output_type": "stream",
          "text": [
            "0 : plan, call, win, council, us, fire, australia, back, govt, report, court, kill, warn, fund, urg, water, nsw, take, get, chang, interview, death, crash, sydney, open\n",
            "1 : australian, open, dollar, share, year, south, market, win, us, new, say, first, kill, fall, china, team, help, day, die, png, soldier, name, arrest, world, chines\n",
            "2 : say, charg, man, murder, face, assault, drug, child, death, sex, woman, court, teen, need, polic, us, stab, attack, drop, alleg, two, govt, former, minist, mp\n",
            "3 : new, zealand, law, year, plan, open, get, name, council, polic, hospit, centr, australia, home, deal, set, hope, appoint, announc, look, say, chief, south, minist, govt\n",
            "4 : polic, man, investig, arrest, jail, miss, murder, car, court, search, probe, death, attack, crash, offic, assault, die, kill, stab, shoot, hunt, accus, drug, charg, found\n"
          ],
          "name": "stdout"
        }
      ]
    },
    {
      "cell_type": "markdown",
      "metadata": {
        "id": "H0rN4JRzML44"
      },
      "source": [
        "**6 clusters**"
      ]
    },
    {
      "cell_type": "code",
      "metadata": {
        "id": "9QyPF_HrxwU1",
        "outputId": "2af4e84c-6818-48a4-9a36-890a6a611ff5",
        "colab": {
          "base_uri": "https://localhost:8080/",
          "height": 137
        }
      },
      "source": [
        "kmeans = KMeans(n_clusters = 6, n_init = 20) \n",
        "kmeans.fit(X)\n",
        "# We look at 6 the clusters generated by k-means.\n",
        "common_words = kmeans.cluster_centers_.argsort()[:,-1:-26:-1]\n",
        "for num, centroid in enumerate(common_words):\n",
        "    print(str(num) + ' : ' + ', '.join(wf[word] for word in centroid))"
      ],
      "execution_count": null,
      "outputs": [
        {
          "output_type": "stream",
          "text": [
            "0 : man, say, win, plan, charg, call, us, australia, court, back, govt, kill, report, australian, face, death, crash, warn, water, get, urg, nsw, take, fund, attack\n",
            "1 : new, zealand, law, year, plan, open, get, name, polic, hospit, centr, australia, set, home, deal, hope, announc, look, appoint, say, south, minist, chief, wa, govt\n",
            "2 : council, plan, consid, fund, rate, urg, seek, new, merger, water, land, back, develop, reject, say, mayor, elect, vote, chang, rise, call, get, citi, meet, park\n",
            "3 : polic, investig, man, probe, offic, search, hunt, arrest, death, miss, charg, car, shoot, drug, attack, murder, assault, seek, crash, say, driver, suspect, raid, fatal, find\n",
            "4 : fire, hous, crew, destroy, damag, polic, home, warn, burn, man, investig, threat, shot, nsw, caus, govt, spark, school, kill, resid, servic, ban, evacu, danger, sydney\n",
            "5 : market, concern, close, share, us, rais, local, australian, fall, lead, gain, bank, air, higher, rise, mine, stock, price, wall, plan, trade, lower, fund, safeti, hous\n"
          ],
          "name": "stdout"
        }
      ]
    },
    {
      "cell_type": "markdown",
      "metadata": {
        "id": "ASwtM_cdMUaZ"
      },
      "source": [
        "**7 clusters**"
      ]
    },
    {
      "cell_type": "code",
      "metadata": {
        "id": "5jla5HGg2kc1",
        "outputId": "1b11090d-54bb-4281-ea56-0c75645db59d",
        "colab": {
          "base_uri": "https://localhost:8080/",
          "height": 154
        }
      },
      "source": [
        "kmeans = KMeans(n_clusters = 7, n_init = 20) \n",
        "kmeans.fit(X)\n",
        "# We look at 7 the clusters generated by k-means.\n",
        "common_words = kmeans.cluster_centers_.argsort()[:,-1:-26:-1]\n",
        "for num, centroid in enumerate(common_words):\n",
        "    print(str(num) + ' : ' + ', '.join(wf[word] for word in centroid))"
      ],
      "execution_count": null,
      "outputs": [
        {
          "output_type": "stream",
          "text": [
            "0 : rise, rate, price, interest, toll, council, cut, pay, pc, death, high, fall, bank, star, cost, water, warn, low, say, us, hold, hous, crime, profit, wa\n",
            "1 : polic, investig, probe, man, offic, search, hunt, arrest, miss, death, car, shoot, drug, seek, attack, say, murder, charg, assault, driver, crash, suspect, fatal, raid, find\n",
            "2 : market, share, us, local, gain, fall, lead, australian, bank, higher, stock, close, wall, price, lower, trade, global, high, resourc, hous, loss, fund, despit, dollar, miner\n",
            "3 : chang, climat, law, plan, call, council, say, rule, govt, urg, make, name, act, polici, propos, govern, could, tax, report, health, want, push, back, concern, australia\n",
            "4 : man, charg, murder, face, court, jail, assault, stab, die, death, guilti, drug, child, woman, sex, attack, accus, arrest, crash, kill, car, found, alleg, miss, sydney\n",
            "5 : win, award, cup, titl, open, gold, world, stage, first, final, tour, elect, australia, top, lead, seri, aussi, claim, second, back, australian, grand, big, england, race\n",
            "6 : new, say, plan, call, council, fire, australia, us, govt, back, report, kill, court, australian, fund, get, warn, water, urg, nsw, take, open, year, interview, crash\n"
          ],
          "name": "stdout"
        }
      ]
    },
    {
      "cell_type": "markdown",
      "metadata": {
        "id": "H4OHGVXLMlV_"
      },
      "source": [
        "**8 clusters**"
      ]
    },
    {
      "cell_type": "code",
      "metadata": {
        "id": "ZnF3ruxp4gCA",
        "outputId": "643c4fc2-bfed-437e-b455-4f436e288b44",
        "colab": {
          "base_uri": "https://localhost:8080/",
          "height": 170
        }
      },
      "source": [
        "kmeans = KMeans(n_clusters = 8, n_init = 20) \n",
        "kmeans.fit(X)\n",
        "# We look at 8 the clusters generated by k-means.\n",
        "common_words = kmeans.cluster_centers_.argsort()[:,-1:-26:-1]\n",
        "for num, centroid in enumerate(common_words):\n",
        "    print(str(num) + ' : ' + ', '.join(wf[word] for word in centroid))"
      ],
      "execution_count": null,
      "outputs": [
        {
          "output_type": "stream",
          "text": [
            "0 : plan, call, council, fire, australia, us, back, australian, report, court, warn, water, get, fund, take, nsw, death, chang, sydney, open, year, face, mine, hit, crash\n",
            "1 : win, award, cup, titl, open, gold, world, stage, first, final, tour, elect, australia, lead, top, seri, aussi, claim, second, back, australian, grand, big, england, race\n",
            "2 : new, zealand, law, year, plan, get, open, name, council, polic, centr, home, set, hospit, deal, australia, hope, appoint, announc, look, south, chief, minist, face, welcom\n",
            "3 : say, polic, need, govt, us, minist, expert, plan, mp, union, council, trump, australia, report, could, govern, labor, wont, get, group, opposit, must, public, new, pm\n",
            "4 : wa, elect, final, make, grand, feder, labor, cup, campaign, semi, us, countri, hour, vote, call, set, reach, open, liber, nation, govern, day, result, world, council\n",
            "5 : govt, urg, fund, plan, council, nsw, qld, vic, water, public, consid, help, wa, act, local, sa, boost, accus, chang, back, reject, nt, report, support, health\n",
            "6 : polic, man, charg, interview, murder, assault, court, face, death, investig, arrest, drug, jail, stab, car, miss, attack, probe, search, woman, shoot, crash, offic, die, child\n",
            "7 : kill, crash, bomb, man, blast, attack, car, two, soldier, iraq, us, afghan, accid, pakistan, polic, three, suicid, woman, bus, four, afghanistan, iraqi, strike, five, isra\n"
          ],
          "name": "stdout"
        }
      ]
    },
    {
      "cell_type": "markdown",
      "metadata": {
        "id": "fi6oxC8xMcjB"
      },
      "source": [
        "*choose wisely:)*"
      ]
    }
  ]
}